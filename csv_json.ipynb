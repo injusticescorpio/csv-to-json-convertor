{
 "cells": [
  {
   "cell_type": "code",
   "execution_count": 17,
   "metadata": {},
   "outputs": [],
   "source": [
    "jsonfile='converted1.json'\n",
    "csvfile='final.csv'\n"
   ]
  },
  {
   "cell_type": "code",
   "execution_count": 18,
   "metadata": {},
   "outputs": [
    {
     "data": {
      "text/plain": [
       "'final.csv'"
      ]
     },
     "execution_count": 18,
     "metadata": {},
     "output_type": "execute_result"
    }
   ],
   "source": [
    "csvfile"
   ]
  },
  {
   "cell_type": "code",
   "execution_count": 19,
   "metadata": {},
   "outputs": [],
   "source": [
    "import json\n",
    "import csv"
   ]
  },
  {
   "cell_type": "code",
   "execution_count": 57,
   "metadata": {},
   "outputs": [
    {
     "name": "stdout",
     "output_type": "stream",
     "text": [
      "OrderedDict([('ID', '1'), ('Disease', 'Allergy'), ('Symtoms', 'nasal congestion,\\nitchy and watery eyes,\\nsneezing,\\nstuffy or runny nose,\\nscratchy or sore throat,\\nthroat clearing,\\ncough from postnasal drip.')])\n",
      "OrderedDict([('ID', '2'), ('Disease', 'anemia'), ('Symtoms', 'Feel tired or lightheaded (sometimes with fainting)\\nWeakness\\nFatigue easily\\nHave decreased energy\\nAppear pale\\nDevelop palpitations or rapid heart rate\\nExperience shortness of breath')])\n",
      "OrderedDict([('ID', '3'), ('Disease', 'cold/flu'), ('Symtoms', 'Headaches, body aches, fever, and flu-like symptoms\\nNasal congestion, runny nose, and sneezing\\nCough\\nSore throat')])\n",
      "OrderedDict([('ID', '4'), ('Disease', 'asthama'), ('Symtoms', 'shortness of breath, chest pain,cough')])\n",
      "OrderedDict([('ID', '5'), ('Disease', 'alzheimers'), ('Symtoms', 'loss of orientation (to person, place, or time),\\nagitation,\\nirritability,\\nquarrelsomeness, and\\na diminishing ability to care for him- or herself and to dress appropriately.')])\n",
      "OrderedDict([('ID', '6'), ('Disease', 'pregnancy'), ('Symtoms', ' absence of menstrual periods  breast swelling and tenderness. Food cravings')])\n",
      "OrderedDict([('ID', '7'), ('Disease', 'hyperthyroid'), ('Symtoms', 'a rapid heart rate, excessive sweating, intolerance to heat, tremor, nervousness, or agitation. Other symptoms can include fatigue, weight loss, hair loss, increased appetite, problems with concentration, frequent bowel movements, and irregular or decreased menstrual blood flow in women')])\n",
      "OrderedDict([('ID', '8'), ('Disease', 'hypothyroid'), ('Symtoms', ' fatigue, depression, mild weight gain, cold intolerance, sleepiness, constipation dry and coarse hair, dry skin, and muscle cramps. Blood cholesterol levels may be elevated.')])\n",
      "OrderedDict([('ID', '9'), ('Disease', 'diabetes'), ('Symtoms', 'dehydration,\\nhunger,\\nincreased urination, and\\nincreased thirst.')])\n",
      "OrderedDict([('ID', '10'), ('Disease', 'HIV AIDS'), ('Symtoms', 'fever, swollen lymph nodes, joint and muscle aches, and sore throat. chills, night sweats, and mouth ulcers. ')])\n",
      "OrderedDict([('ID', '11'), ('Disease', 'high blood pressure'), ('Symtoms', ' dizziness, shortness of breath, headache, and blurred vision  nosebleeds, blood in the urine, fatigue, chest pain, ')])\n",
      "OrderedDict([('ID', '12'), ('Disease', 'Rheumatoid Arthritis'), ('Symtoms', ' aches stiffness, muscle aches, low-grade fever, fatigue, lack of appetite, loss of energy . Joints can become warm, swollen, reddened, painful, ')])\n",
      "OrderedDict([('ID', '13'), ('Disease', 'hepatitis B'), ('Symtoms', 'fatigue,\\nloss of appetite,\\nnausea,\\njaundice (yellowing of the skin and eyes), and\\npain in the upper right abdomen (due to the inflamed liver).')])\n",
      "OrderedDict([('ID', '14'), ('Disease', 'Dengue'), ('Symtoms', ' headache, fever, exhaustion, severe muscle joint pain, swollen lymph nodes rash, fever, itchy rash,headache  ')])\n",
      "OrderedDict([('ID', '15'), ('Disease', 'Malaria'), ('Symtoms', 'fever and chills,\\nheadaches,\\nnausea and vomiting, and\\ngeneral weakness and body aches')])\n",
      "OrderedDict([('ID', '16'), ('Disease', 'Chicken Pox'), ('Symtoms', 'general weakness, fever up to 102 F, and red spots that start on the same day or so as the fever')])\n",
      "OrderedDict([('ID', '17'), ('Disease', 'jaundice'), ('Symtoms', 'Yellow discoloration of the skin, mucous membranes and the whites of the eyes\\nLight-colored skin\\nPoor feeding\\nLethargy/excessive sleepiness\\nChanges in muscle tone (either listless or stiff with arching of the back)\\nHigh-pitched crying\\nSeizures')])\n",
      "OrderedDict([('ID', '18'), ('Disease', 'Diarrhea'), ('Symtoms', ' bowel movements are frequent watery. no signs of inflammation.  cramping abdominal pain')])\n",
      "OrderedDict([('ID', '19'), ('Disease', 'cataract'), ('Symtoms', 'decrease in clarity of vision, not fully correctable with glasses. loss of contrast sensitivity. Disturbing glare in light')])\n",
      "OrderedDict([('ID', '20'), ('Disease', 'pneumonia'), ('Symtoms', 'fever,\\nchills,\\ncough,\\nshortness of breath, and\\nfatigue.')])\n",
      "OrderedDict([('ID', '21'), ('Disease', 'Urinary Retention'), ('Symtoms', 'inability to urinate\\npainful, urgent need to urinate\\npain or discomfort in the lower abdomen\\nbloating of the lower abdomen')])\n",
      "OrderedDict([('ID', '22'), ('Disease', 'Insomnia'), ('Symtoms', 'Waking up unrefreshed from lack of sleep\\nDaytime sleepiness and fatigue\\nMood changes\\nPoor concentration and attention\\nAnxiety\\nHeadaches\\nLack of energy\\nIncreased errors and mistakes')])\n",
      "OrderedDict([('ID', '23'), ('Disease', 'Sinus Infection '), ('Symtoms', 'sinus headache,\\nfacial tenderness,\\npressure or pain in the sinuses, in the ears and teeth,\\nfever,\\ncloudy discolored nasal or postnasal drainage,\\nfeeling of nasal stuffiness,\\nsore throat,\\ncough, and\\noccasionally facial swelling.5')])\n",
      "OrderedDict([('ID', '24'), ('Disease', 'hepatitis c'), ('Symtoms', 'fatigue,\\nloss of appetite,\\nmuscle aches, or\\nfever.')])\n",
      "OrderedDict([('ID', '25'), ('Disease', 'mumps'), ('Symtoms', 'swollen, painful salivary glands, fever, headache, fatigue and appetite loss.')])\n",
      "OrderedDict([('ID', '26'), ('Disease', 'measles'), ('Symtoms', 'dry cough,\\nconjunctivitis,\\nrunny nose (coryza), and\\nhigh fever.')])\n",
      "OrderedDict([('ID', '27'), ('Disease', 'botulism'), ('Symtoms', 'double vision,\\nblurred vision,\\ndrooping eyelids,\\nslurred speech,\\ndifficulty swallowing,\\ndry mouth,\\nmuscle weakness')])\n",
      "OrderedDict([('ID', '28'), ('Disease', 'mad cow disease'), ('Symtoms', 'rapid mental deterioration')])\n",
      "OrderedDict([('ID', '29'), ('Disease', 'meningetis'), ('Symtoms', 'sudden fever,\\nheadache,\\nvomiting,\\nvisual sensitivity to light,\\nstiff neck and back,\\nconfusion,\\ndrowsiness,\\nunsteady gait,\\nirritability,\\nloss of consciousness,\\npoor responsiveness,\\nseizures,\\nmuscle weakness,\\nsudden severe dementia, and\\nmemory loss.')])\n",
      "OrderedDict([('ID', '30'), ('Disease', 'indigestion'), ('Symtoms', 'upper abdominal pain or discomfort,\\nbelching,\\nnausea,\\nvomiting,\\nabdominal bloating,\\nfeeling full after eating only a small amount of food (early satiety), and\\nabdominal distention')])\n",
      "OrderedDict([('ID', '31'), ('Disease', 'constipation'), ('Symtoms', 'Infrequent bowel movements\\nStraining when going to the bathroom\\nHard and/or small feces\\nSense of incomplete evacuation after going to the bathroom\\nLower abdominal discomfort\\nAbdominal bloating, occasionally distension\\nAnal bleeding or fissures from the trauma caused by hard feces\\nOccasionally diarrhea due to obstruction of the colon by hard stool\\nRarely, colonic perforation\\nPsychological distress and/or obsession with having to go to the bathroom\\nPossible aggravation of diverticular disease, hemorrhoids and rectal prolapse')])\n",
      "OrderedDict([('ID', '32'), ('Disease', 'appendicitis '), ('Symtoms', 'abdominal pain,\\nloss of appetite,\\nnausea and vomiting,\\nfever, and\\nabdominal tenderness.')])\n",
      "OrderedDict([('ID', '33'), ('Disease', 'Anxiety Disorder'), ('Symtoms', 'restlessness or feeling edgy;\\nbecoming tired easily, fatigue;\\ntrouble concentrating, that may also appear as memory or attention problems;\\nfeeling as if the mind is going \"blank\";\\nirritability;\\nmuscle tension;\\nheadaches;\\nsleep problems')])\n",
      "OrderedDict([('ID', '34'), ('Disease', \"crohn's disease\"), ('Symtoms', 'Abdominal pain\\nDiarrhea\\nVomiting\\nFever\\nBloody diarrhea\\nAnal fistulae\\nPerirectal abscesses\\nWeight loss')])\n",
      "OrderedDict([('ID', '35'), ('Disease', 'narcolepsy'), ('Symtoms', 'Excessive daytime sleepiness\\nCataplexy\\nHypnagogic hallucinations\\nSleep paralysis\\nDisturbed nocturnal sleep\\nAutomatic behaviorblurred vision, double vision, or droopy eyelids')])\n",
      "OrderedDict([('ID', '36'), ('Disease', 'cystinuria'), ('Symtoms', 'Hematuria - blood in the urine;\\nFlank pain - pain in the side, due to kidney pain;\\nRenal colic - intense, cramping pain due to stones in the urinary tract;\\nObstructive uropathy - urinary tract disease due to obstruction; and\\nUrinary tract infections.')])\n",
      "OrderedDict([('ID', '37'), ('Disease', 'prostatitis'), ('Symtoms', 'Painful, difficult and/or frequent urinating\\nBlood in the urine\\nGroin pain, rectal pain, abdominal pain and/or low back pain\\nFever and chills\\nMalaise and body aches\\nUrethral discharge\\nPainful ejaculation or sexual dysfunction')])\n",
      "OrderedDict([('ID', '38'), ('Disease', 'Angina'), ('Symtoms', 'chest pressure that radiates down the arm, into the neck or jaw  shortness of breath and sweating pain heaviness tightness ache fullness')])\n",
      "OrderedDict([('ID', '39'), ('Disease', 'west nile virus'), ('Symtoms', 'fever, headache, body aches, skin rash, and swollen lymph nodes. Severe symptoms and signs may include stiff neck, sleepiness, disorientation, coma, tremors, convulsions, and paralysis')])\n",
      "OrderedDict([('ID', '40'), ('Disease', 'Staph Infection'), ('Symtoms', 'red,\\nswollen, and\\ntender or painful.\\nDrainage or pus is common. When staph is in the blood (bacteremia or sepsis), it can cause high fevers, chills, and low blood pressure.')])\n",
      "OrderedDict([('ID', '41'), ('Disease', 'Macular Degeneration(Age-Related Type)'), ('Symtoms', 'common early sign is blurred vision')])\n",
      "OrderedDict([('ID', '42'), ('Disease', 'Retinal detachment'), ('Symtoms', 'Flashing lights and floaters')])\n",
      "OrderedDict([('ID', '43'), ('Disease', 'Glaucoma'), ('Symtoms', 'haziness of vision and see haloes around lights, especially in the morning')])\n",
      "OrderedDict([('ID', '44'), ('Disease', 'hysterectomy'), ('Symtoms', 'heavy periods\\npelvic pain\\nprolapse of the uterus.\\ncancer of the womb, ovaries or cervix')])\n",
      "OrderedDict([('ID', '45'), ('Disease', 'yeast infection'), ('Symtoms', 'a vaginal discharge that is typically thick, odorless, whitish-gray in color.')])\n",
      "OrderedDict([('ID', '46'), ('Disease', 'anorexia'), ('Symtoms', 'underweight,  worsen depression social withdrawal.\\n irritable and easily upset \\nSleep  disrupted and lead to fatigue during the day.\\nAttention and concentration can decrease.')])\n",
      "OrderedDict([('ID', '47'), ('Disease', 'chronic obstructive pulmonary disease 5'), ('Symtoms', 'cough,\\nchest discomfort,\\nshortness of breath, and\\nwheezing.')])\n",
      "OrderedDict([('ID', '48'), ('Disease', 'emphysema'), ('Symtoms', '\\n\\n shortness of breath and wheezing5\\n\\n')])\n",
      "OrderedDict([('ID', '49'), ('Disease', 'boils'), ('Symtoms', ' tiny areas of infection in the base of the area of skin from which hair grows')])\n",
      "OrderedDict([('ID', '50'), ('Disease', 'keloid scar'), ('Symtoms', 'raised and look shiny and dome-shaped, ranging in color from pink to red')])\n",
      "OrderedDict([('ID', '51'), ('Disease', 'rosacea'), ('Symtoms', 'acial flushing,\\nblushing,\\nskin redness (erythema),\\nburning,\\nred bumps and pustules,\\nsmall cysts, and\\nthickening of the facial tissue, especially the nose.')])\n",
      "OrderedDict([('ID', '52'), ('Disease', 'shingles(herpes zoster) '), ('Symtoms', 'one-sided stabbing pain,\\ntingling, itching, burning, or stinging sensation that precedes the appearance of the rash by a few days,\\nheadache,\\nfever and chills,\\nnausea,\\nbody aches, and\\nfluid-filled blistering red rash, typically on the torso or face.')])\n",
      "OrderedDict([('ID', '53'), ('Disease', 'dandruff'), ('Symtoms', ' Reddish, scaly plaques appear in the eyebrows, on the forehead, in the ear canal, on the folds of skin that extend from the nostril to the commissure of the lips')])\n",
      "OrderedDict([('ID', '54'), ('Disease', 'acne'), ('Symtoms', ' uninflamed blackheads t, pus-filled pimples , large, red and tender bumps.')])\n",
      "OrderedDict([('ID', '55'), ('Disease', 'common wart'), ('Symtoms', 'fleshy, painless growth on the skin')])\n",
      "OrderedDict([('ID', '56'), ('Disease', 'Scleroderma'), ('Symtoms', 'redness, swelling, tenderness, itching, and pain) that can lead to skin tightness or hardening')])\n",
      "OrderedDict([('ID', '57'), ('Disease', 'Lichen planus'), ('Symtoms', ' itching varies from mild to severe.bumps at first are big in diameter, with angular borders and a violet colour')])\n",
      "OrderedDict([('ID', '58'), ('Disease', 'Dementia'), ('Symtoms', 'simple forgetfulness, losing items, and problems performing tasks or activities that were previously done without effort in old age')])\n",
      "OrderedDict([('ID', '59'), ('Disease', 'hives'), ('Symtoms', 'welts flare, itch, swell, and go away in a matter of minutes to hours, only to appear elsewhere.')])\n",
      "OrderedDict([('ID', '60'), ('Disease', 'bulimia nervosa'), ('Symtoms', ' bingeing and purging  sore throat, discolored, deteriorating teeth, abdominal pain/cramping bloating  repeated vomiting swollen salivary glands constipation, dehydration, dry skin, and thinning hair.')])\n",
      "OrderedDict([('ID', '61'), ('Disease', 'erectile dysfunction'), ('Symtoms', 'Penile erection occurs, but the penis does not remain hard enough for completion of sex.\\nPenile erections are not hard enough for penetration.\\nThere is an inability to obtain a penile erection.\\nOne can still achieve an orgasm and ejaculate with erectile dysfunction.')])\n",
      "OrderedDict([('ID', '62'), ('Disease', 'Enlarged Prostate Gland '), ('Symtoms', ' slow flow of urine,  need to urinate urgently , difficulty starting the urinary stream, urinary tract infections, blockage of the urethra')])\n",
      "OrderedDict([('ID', '63'), ('Disease', 'Dysthymia (Persistent Depressive Disorder)'), ('Symtoms', 'Loss of appetite or excessive hunger\\nInsomnia or excess sleepiness\\nFatigue or other physical symptoms; slowness in activity and thought\\nLow self-esteem/feelings of inadequacy\\nLack of concentration or making decisions\\nHopelessness')])\n",
      "OrderedDict([('ID', '64'), ('Disease', ' panic attack'), ('Symtoms', 'racing or pounding heartbeat (palpitations);\\nchest pains;\\nstomach upset;\\ndizziness, lightheadedness, nausea;\\nhyperventilation;\\ndifficulty breathing, a sense of feeling smothered;\\na choking sensation;\\nhand tingling or numbness;\\nhot flashes/sweating or cold flashes/chills;\\ntrembling and shaking;\\ndreamlike sensations or perceptual distortions like a feeling of detachment;\\nterror, a sense that something unimaginably terrible is about to occur and one is powerless to prevent it;\\na need to escape;\\nworrying about not knowing how to control their symptoms, leading to them doing something embarrassing;\\nfear of dying.')])\n",
      "OrderedDict([('ID', '65'), ('Disease', 'bipolar disorder'), ('Symtoms', 'elevated, expansive, or irritable mood;\\nracing thoughts;\\npressured speech (rapid, excessive, and frenzied speaking);\\ndecreased need for sleep;\\ngrandiose ideas (for example, false beliefs of superiority or failures);\\ntangential speech (repeatedly changing conversational topics to topics that are hardly related);\\nrestlessness/increased goal-directed activity;\\nimpulsivity, poor judgment or engaging in risky activity (like spending sprees, promiscuity, or excess desire for sex).')])\n",
      "OrderedDict([('ID', '66'), ('Disease', 'Indigestion(Dyspepsia)'), ('Symtoms', 'upper abdominal pain or discomfort (above or around the navel),\\nbelching,\\nnausea (with or without vomiting),\\nabdominal bloating (the sensation of abdominal fullness without visible distention),\\nearly satiety (the sensation of fullness after a very small amount of food),\\nabdominal distention (visible swelling as opposed to bloating), and\\nlower chest pain.')])\n",
      "OrderedDict([('ID', '67'), ('Disease', 'motion sickness'), ('Symtoms', 'feeling of uneasiness followed by cold sweats  dizziness pale skin  increased saliva production along with headache and fatigue ,Nausea  ,vomiting ')])\n",
      "OrderedDict([('ID', '68'), ('Disease', 'respiratory acidosis'), ('Symtoms', 'fatigue or drowsiness\\nbecoming tired easily\\nconfusion\\nshortness of breath\\nsleepiness\\nheadache')])\n",
      "OrderedDict([('ID', '69'), ('Disease', 'metabolic acidosis'), ('Symtoms', 'rapid and shallow breathing\\nconfusion\\nfatigue\\nheadache\\nsleepiness\\nlack of appetite\\njaundice\\nincreased heart rate\\nbreath that smells fruity, which is a sign of diabetic acidosis (ketoacidosis)')])\n",
      "OrderedDict([('ID', '70'), ('Disease', 'acute respiratory distress syndrome'), ('Symtoms', 'labored and rapid breathing\\nmuscle fatigue and general weakness\\nlow blood pressure\\ndiscolored skin or nails\\na dry, hacking cough\\na fever\\nheadaches\\na fast pulse rate\\nmental confusion')])\n",
      "OrderedDict([('ID', '71'), ('Disease', \"Addison's disease\"), ('Symtoms', 'weakness in the muscles\\nfatigue and tiredness\\ndarkening in skin color\\nweight loss or decreased appetite\\na decrease in heart rate or blood pressure\\nlow blood sugar levels\\nfainting spells\\nsores in the mouth\\ncravings for salt\\nnausea\\nvomiting\\nirritability or depression')])\n",
      "OrderedDict([('ID', '72'), ('Disease', 'Addisonian crisis'), ('Symtoms', 'mental status changes (confusion, fear, or restlessness)\\nloss of consciousness\\nhigh fever\\nsudden pain in the lower back, belly, or legs')])\n",
      "OrderedDict([('ID', '73'), ('Disease', 'beriberi'), ('Symtoms', 'shortness of breath during physical activity\\nwaking up short of breath\\nrapid heart rate\\nswollen lower legs')])\n",
      "OrderedDict([('ID', '74'), ('Disease', 'dry beriberi'), ('Symtoms', 'decreased muscle function, particularly in the lower legs\\ntingling or loss of feeling in the feet and hands\\npain\\nmental confusion\\ndifficulty speaking\\nvomiting\\ninvoluntary eye movement\\nparalysis')])\n",
      "OrderedDict([('ID', '75'), ('Disease', 'thalamus and hypothalamus'), ('Symtoms', 'confusion\\nmemory loss\\nloss of muscle coordination\\nvisual problems such as rapid eye movement and double vision')])\n",
      "OrderedDict([('ID', '76'), ('Disease', 'Bird Flu'), ('Symtoms', 'cough\\ndiarrhea\\nrespiratory difficulties\\nfever (over 100.4Â°F or 38Â°C)\\nheadache\\nmuscle aches\\nmalaise\\nrunny nose\\nsore throat')])\n",
      "OrderedDict([('ID', '77'), ('Disease', 'bone cancer'), ('Symtoms', 'pain and swelling in the affected bones\\npalpable hard mass in the long bones of the limbs\\nfeeling tired or fatigued easily broken bones\\nweight loss')])\n",
      "OrderedDict([('ID', '78'), ('Disease', 'bone tumour'), ('Symtoms', ' dull ache in the affected bone weakened bone, leading to severe pain')])\n",
      "OrderedDict([('ID', '79'), ('Disease', 'bronchiolitis'), ('Symtoms', 'shortness of breath\\nwheezing\\nbluish appearance of the skin from lack of oxygen\\ncrackling or rattling sounds heard in the lungs\\nfatigue\\nribs that appear sunken during attempts to inhale (in children)\\nnasal flaring (in babies)\\nfast breathing\\ncough')])\n",
      "OrderedDict([('ID', '80'), ('Disease', 'tinnitus'), ('Symtoms', 'Ringing in Ears')])\n",
      "OrderedDict([('ID', '81'), ('Disease', 'tonsillitis'), ('Symtoms', 'a very sore throat\\ndifficulty swallowing or painful swallowing\\na scratchy-sounding voice\\nbad breath\\nfever\\nchills\\nearaches\\nstomachaches\\nheadaches\\na stiff neck\\njaw and neck tenderness due to swollen lymph nodes\\ntonsils that appear red and swollen\\ntonsils that have white or yellow spots')])\n",
      "OrderedDict([('ID', '82'), ('Disease', 'Tularemia'), ('Symtoms', 'a skin ulcer at the point of contact with the infected animal or at the site of a bite\\nswollen lymph nodes near the skin ulcer (most often in the armpit or groin)\\nsevere headaches\\na fever\\nchills\\nfatigue')])\n",
      "OrderedDict([('ID', '83'), ('Disease', 'tuberculosis'), ('Symtoms', 'unexplained fatigue\\nfever\\nnight sweats\\nappetite loss\\nweight loss')])\n",
      "OrderedDict([('ID', '84'), ('Disease', 'typhus'), ('Symtoms', 'severe headache\\nhigh fever (above 102.2Â°F)\\nrash that begins on the back or chest and spreads\\nconfusion\\nstupor and seeming out of touch with reality\\nlow blood pressure (hypotension)\\neye sensitivity to bright lights\\nsevere muscle pain')])\n",
      "OrderedDict([('ID', '85'), ('Disease', 'Pancreatic Cancer'), ('Symtoms', 'loss of appetite\\nunintentional weight loss\\nabdominal (stomach) or lower back pain\\nblood clots\\njaundice (yellow skin and eyes)\\ndepression')])\n",
      "OrderedDict([('ID', '86'), ('Disease', 'hyperparathyroidism '), ('Symtoms', 'bone fractures\\nkidney stones\\nexcessive urination  mental changes such as depression, lethargy, or confusion\\nnausea\\nvomiting\\npain in your muscles or abdomen')])\n",
      "OrderedDict([('ID', '87'), ('Disease', 'paronychia'), ('Symtoms', 'redness of the skin around your nail\\ntenderness of the skin around your nail\\npus-filled blisters\\nchanges in nail shape, color, or texture\\ndetachment of your nail')])\n"
     ]
    }
   ],
   "source": [
    "\n",
    "# with open(csvfile, newline='') as csvfile:\n",
    "#         reader = csv.DictReader(csvfile,dialect='excel')\n",
    "#         for i in reader:\n",
    "#             print(i)"
   ]
  },
  {
   "cell_type": "code",
   "execution_count": 20,
   "metadata": {},
   "outputs": [
    {
     "data": {
      "text/plain": [
       "csv.DictReader"
      ]
     },
     "execution_count": 20,
     "metadata": {},
     "output_type": "execute_result"
    }
   ],
   "source": [
    "type(reader)"
   ]
  },
  {
   "cell_type": "code",
   "execution_count": 21,
   "metadata": {},
   "outputs": [],
   "source": [
    "data={}\n",
    "with open(csvfile, newline='') as csvfile:\n",
    "        reader = csv.DictReader(csvfile,dialect='excel')\n",
    "        for i in reader:\n",
    "            key=i['ID']\n",
    "            data[key]=i"
   ]
  },
  {
   "cell_type": "code",
   "execution_count": 22,
   "metadata": {},
   "outputs": [],
   "source": [
    "with open(jsonfile, 'w', encoding='utf-8') as jsonf: \n",
    "        jsonf.write(json.dumps(data, indent=4)) \n"
   ]
  },
  {
   "cell_type": "code",
   "execution_count": 23,
   "metadata": {},
   "outputs": [],
   "source": [
    "f=r'converted.json'"
   ]
  },
  {
   "cell_type": "code",
   "execution_count": 11,
   "metadata": {},
   "outputs": [
    {
     "name": "stdout",
     "output_type": "stream",
     "text": [
      "<_io.TextIOWrapper name='converted.json' mode='r' encoding='cp1252'>\n"
     ]
    }
   ],
   "source": [
    "with open(f, newline='' ) as jsonfile:\n",
    "        print(jsonfile)"
   ]
  },
  {
   "cell_type": "code",
   "execution_count": null,
   "metadata": {},
   "outputs": [],
   "source": []
  },
  {
   "cell_type": "code",
   "execution_count": null,
   "metadata": {},
   "outputs": [],
   "source": []
  }
 ],
 "metadata": {
  "kernelspec": {
   "display_name": "Python 3",
   "language": "python",
   "name": "python3"
  },
  "language_info": {
   "codemirror_mode": {
    "name": "ipython",
    "version": 3
   },
   "file_extension": ".py",
   "mimetype": "text/x-python",
   "name": "python",
   "nbconvert_exporter": "python",
   "pygments_lexer": "ipython3",
   "version": "3.7.6"
  }
 },
 "nbformat": 4,
 "nbformat_minor": 4
}
